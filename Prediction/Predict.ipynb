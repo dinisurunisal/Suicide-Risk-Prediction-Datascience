{
 "cells": [
  {
   "cell_type": "code",
   "execution_count": 18,
   "metadata": {
    "collapsed": true,
    "pycharm": {
     "is_executing": false
    }
   },
   "outputs": [
    {
     "name": "stdout",
     "text": [
      "    Not Suicide(0)/Suicide(1)  Age Gender    Religon        Race  \\\n",
      "0                           0   30      F   Buddhist   Sinhalese   \n",
      "1                           0   91      F      Islam      Muslim   \n",
      "2                           0   85      M   Buddhist   Sinhalese   \n",
      "3                           1   87      M   Buddhist  Sinhalese    \n",
      "4                           0   59      F   Buddhist   Sinhalese   \n",
      "5                           1   31      M   Buddhist  Sinhalese    \n",
      "6                           0   75      F  Christian      Burger   \n",
      "7                           1   47      M   Buddhist   Sinhalese   \n",
      "8                           0   58      F  Christian      Burger   \n",
      "9                           0   36      F      Hindu       Tamil   \n",
      "10                          1   87      M   Buddhist  Sinhalese    \n",
      "11                          0   73      F  Christian      Burger   \n",
      "12                          1   44      M   Buddhist  Sinhalese    \n",
      "13                          1   62      M   Buddhist   Sinhalese   \n",
      "14                          0   21      F      Hindu       Tamil   \n",
      "15                          1   70      M   Buddhist  Sinhalese    \n",
      "16                          0   68      M      Hindu       Tamil   \n",
      "17                          1   43      F   Buddhist  Sinhalese    \n",
      "18                          0   16      M      Other      Burger   \n",
      "19                          1   35      M      Hindu       Tamil   \n",
      "\n",
      "                                 Nature Of Occupation Civil Status  \\\n",
      "0   Administrative Executive Managerial & related ...    Unmarried   \n",
      "1                                        Sales worker      Married   \n",
      "2                                  Security Personnel      Married   \n",
      "3                                  Unemployed persons      Married   \n",
      "4                                          Pensioners    Unmarried   \n",
      "5   Agricultural Animal Husbandry Fisherman & rela...    Unmarried   \n",
      "6                                      Armed Services    Divourced   \n",
      "7                                  Unemployed persons      Married   \n",
      "8                                      Armed Services    Unmarried   \n",
      "9                                      Armed Services        Widow   \n",
      "10                                 Unemployed persons      Married   \n",
      "11  Clerical & related workers (Stenographers/ Typ...        Widow   \n",
      "12  Agricultural Animal Husbandry Fisherman & rela...      Married   \n",
      "13       Service workers (Cooks/Tailors/Barbers/ etc)      Married   \n",
      "14                                       Sales worker    Unmarried   \n",
      "15                                 Unemployed persons      Married   \n",
      "16                                       Sales worker      Married   \n",
      "17                                     Armed Services      Married   \n",
      "18                                            Student    Unmarried   \n",
      "19  Agricultural Animal Husbandry Fisherman & rela...      Married   \n",
      "\n",
      "               Education Level  \\\n",
      "0            From Grade 1 to 7   \n",
      "1   University Degree or above   \n",
      "2   University Degree or above   \n",
      "3          School not attended   \n",
      "4                        Other   \n",
      "5           Passed G.C.E (O/L)   \n",
      "6           Passed G.C.E (A/L)   \n",
      "7          School not attended   \n",
      "8   University Degree or above   \n",
      "9   University Degree or above   \n",
      "10              Passed Grade 8   \n",
      "11              Passed Grade 8   \n",
      "12          Passed G.C.E (O/L)   \n",
      "13           From Grade 1 to 7   \n",
      "14          Passed G.C.E (O/L)   \n",
      "15         School not attended   \n",
      "16              Passed Grade 8   \n",
      "17          Passed G.C.E (O/L)   \n",
      "18          Passed G.C.E (O/L)   \n",
      "19              Passed Grade 8   \n",
      "\n",
      "                                             Reason  \\\n",
      "0                                            Asthma   \n",
      "1                               Alzheimer's disease   \n",
      "2   Stroke/Chronic diseases & Physical disabilities   \n",
      "3       Harrasment by the husband & family disputes   \n",
      "4                               Alzheimer's disease   \n",
      "5       Harrasment by the husband & family disputes   \n",
      "6                                     Natural Death   \n",
      "7       Harrasment by the husband & family disputes   \n",
      "8                                          Diabetes   \n",
      "9                                     Natural Death   \n",
      "10         Chronic diseases & Physical disabilities   \n",
      "11                                    Natural Death   \n",
      "12      Harrasment by the husband & family disputes   \n",
      "13                                 Mental Disorders   \n",
      "14  Stroke/Chronic diseases & Physical disabilities   \n",
      "15                                 Mental Disorders   \n",
      "16                      Addiction to narcotic drugs   \n",
      "17      Harrasment by the husband & family disputes   \n",
      "18                                 Mental Disorders   \n",
      "19                                    Other Reasons   \n",
      "\n",
      "    Lifetime Psychiatric Hospitalizations  ...  \\\n",
      "0                                       0  ...   \n",
      "1                                       0  ...   \n",
      "2                                       0  ...   \n",
      "3                                       0  ...   \n",
      "4                                       0  ...   \n",
      "5                                       0  ...   \n",
      "6                                       0  ...   \n",
      "7                                       0  ...   \n",
      "8                                       0  ...   \n",
      "9                                       0  ...   \n",
      "10                                      1  ...   \n",
      "11                                      0  ...   \n",
      "12                                      0  ...   \n",
      "13                                      1  ...   \n",
      "14                                      0  ...   \n",
      "15                                      0  ...   \n",
      "16                                      0  ...   \n",
      "17                                      1  ...   \n",
      "18                                      0  ...   \n",
      "19                                      0  ...   \n",
      "\n",
      "    Any suicidal thoughts mentioned  Self-Injurious Behaviour  \\\n",
      "0                                 0                         0   \n",
      "1                                 0                         0   \n",
      "2                                 0                         0   \n",
      "3                                 1                         0   \n",
      "4                                 0                         0   \n",
      "5                                 0                         1   \n",
      "6                                 0                         0   \n",
      "7                                 0                         1   \n",
      "8                                 0                         0   \n",
      "9                                 0                         0   \n",
      "10                                1                         0   \n",
      "11                                0                         0   \n",
      "12                                0                         0   \n",
      "13                                1                         0   \n",
      "14                                0                         0   \n",
      "15                                1                         0   \n",
      "16                                0                         0   \n",
      "17                                1                         1   \n",
      "18                                0                         0   \n",
      "19                                0                         0   \n",
      "\n",
      "    Psychiatric Disorders Past Illnesses  Alcohol/ drug Consumption Anger  \\\n",
      "0                    None          Asthma                      None     0   \n",
      "1                    None           Other                      None     0   \n",
      "2                    None        Diabetes                      None     0   \n",
      "3                    None    Chronic pain                  Frequent     1   \n",
      "4                    None            COPD                      None     0   \n",
      "5                    None           Other                  Frequent     1   \n",
      "6                    None         Unknown                      None     0   \n",
      "7                    None           Other                  Moderate     0   \n",
      "8                    None         Unknown                      None     0   \n",
      "9                    None         Unknown                      None     0   \n",
      "10                  Other        HIV/AIDS                  Frequent     0   \n",
      "11                   None  Heart Diseases                      None     0   \n",
      "12                   None          Cancer                  Frequent     0   \n",
      "13                   PTSD           Other                  Frequent     1   \n",
      "14                   None    Chronic pain                      None     0   \n",
      "15             Depression           Other                  Frequent     1   \n",
      "16                   None           Other                  Frequent     0   \n",
      "17             Depression          Cancer                      None     0   \n",
      "18             Depression         Unknown                  Moderate     1   \n",
      "19             Depression           Other                  Moderate     0   \n",
      "\n",
      "   Sleep Problem  Social Iscolation  Sad/ Weary  Humilated  \n",
      "0              0                  0           0          0  \n",
      "1              1                  0           0          0  \n",
      "2              1                  0           0          0  \n",
      "3              1                  1           1          1  \n",
      "4              1                  0           1          1  \n",
      "5              1                  1           1          1  \n",
      "6              0                  1           0          0  \n",
      "7              0                  1           1          0  \n",
      "8              0                  0           0          0  \n",
      "9              1                  0           0          0  \n",
      "10             1                  1           1          0  \n",
      "11             1                  0           0          0  \n",
      "12             1                  1           1          0  \n",
      "13             1                  1           0          1  \n",
      "14             1                  0           1          0  \n",
      "15             1                  1           1          0  \n",
      "16             0                  0           0          0  \n",
      "17             1                  1           1          1  \n",
      "18             1                  1           0          0  \n",
      "19             1                  1           1          0  \n",
      "\n",
      "[20 rows x 21 columns]\n",
      "       Not Suicide(0)/Suicide(1)         Age  \\\n",
      "count                 1000.00000  1000.00000   \n",
      "mean                     0.50000    54.96100   \n",
      "std                      0.50025    22.49946   \n",
      "min                      0.00000    10.00000   \n",
      "25%                      0.00000    36.00000   \n",
      "50%                      0.50000    57.00000   \n",
      "75%                      1.00000    73.00000   \n",
      "max                      1.00000    98.00000   \n",
      "\n",
      "       Lifetime Psychiatric Hospitalizations  Past Suicide Attempts  \\\n",
      "count                            1000.000000            1000.000000   \n",
      "mean                                0.188000               0.224000   \n",
      "std                                 0.390908               0.417131   \n",
      "min                                 0.000000               0.000000   \n",
      "25%                                 0.000000               0.000000   \n",
      "50%                                 0.000000               0.000000   \n",
      "75%                                 0.000000               0.000000   \n",
      "max                                 1.000000               1.000000   \n",
      "\n",
      "       Any suicidal thoughts mentioned  Self-Injurious Behaviour  \\\n",
      "count                      1000.000000               1000.000000   \n",
      "mean                          0.284000                  0.226000   \n",
      "std                           0.451162                  0.418448   \n",
      "min                           0.000000                  0.000000   \n",
      "25%                           0.000000                  0.000000   \n",
      "50%                           0.000000                  0.000000   \n",
      "75%                           1.000000                  0.000000   \n",
      "max                           1.000000                  1.000000   \n",
      "\n",
      "       Sleep Problem  Social Iscolation   Sad/ Weary    Humilated  \n",
      "count    1000.000000        1000.000000  1000.000000  1000.000000  \n",
      "mean        0.598000           0.340000     0.359000     0.259000  \n",
      "std         0.490547           0.473946     0.479947     0.438305  \n",
      "min         0.000000           0.000000     0.000000     0.000000  \n",
      "25%         0.000000           0.000000     0.000000     0.000000  \n",
      "50%         1.000000           0.000000     0.000000     0.000000  \n",
      "75%         1.000000           1.000000     1.000000     1.000000  \n",
      "max         1.000000           1.000000     1.000000     1.000000  \n"
     ],
     "output_type": "stream"
    }
   ],
   "source": [
    "# Load libraries\n",
    "import pandas as pd\n",
    "import numpy as np\n",
    "from sklearn import preprocessing\n",
    "from sklearn.linear_model import LogisticRegression\n",
    "from sklearn.externals import joblib\n",
    "\n",
    "# Load dataset\n",
    "from sklearn.metrics import accuracy_score\n",
    "from sklearn.model_selection import train_test_split\n",
    "from sklearn.tree import DecisionTreeClassifier\n",
    "url = \"Dataset/FINAL Data.csv\"\n",
    "df = pd.read_csv(url)\n",
    "include = ['Not Suicide(0)/Suicide(1)' , 'Age', 'Gender', 'Religon', 'Race', 'Nature Of Occupation' ,\n",
    "           'Civil Status' ,'Education Level' ,'Reason' ,'Lifetime Psychiatric Hospitalizations' ,\n",
    "           'Past Suicide Attempts' ,'Any suicidal thoughts mentioned' ,'Self-Injurious Behaviour' ,\n",
    "           'Psychiatric Disorders' ,'Past Illnesses ' ,'Alcohol/ drug Consumption','Anger',\n",
    "           'Sleep Problem', 'Social Iscolation', 'Sad/ Weary' , 'Humilated']  # Except the year, all the features are taken \n",
    "df1 = df[include]\n",
    "print(df1.head(20))\n",
    "print(df1.describe())"
   ]
  },
  {
   "cell_type": "markdown",
   "source": [
    "## Data Preprocessing\n",
    "\n",
    "#### Replacing values for the empty spaces"
   ],
   "metadata": {
    "collapsed": false,
    "pycharm": {
     "name": "#%% md\n",
     "is_executing": false
    }
   }
  },
  {
   "cell_type": "code",
   "source": [
    "categoricals = []\n",
    "for col, col_type in df1.dtypes.iteritems():\n",
    "     if col_type == 'O':\n",
    "          categoricals.append(col)\n",
    "     else:\n",
    "          df1[col].fillna(0, inplace=True)"
   ],
   "metadata": {
    "collapsed": false,
    "pycharm": {
     "name": "#%% \n",
     "is_executing": false
    }
   },
   "execution_count": null,
   "outputs": []
  },
  {
   "cell_type": "markdown",
   "source": [
    "#### Converting Categorical data to Numeric data\n"
   ],
   "metadata": {
    "collapsed": false,
    "pycharm": {
     "name": "#%% md\n"
    }
   }
  },
  {
   "cell_type": "code",
   "execution_count": 20,
   "outputs": [
    {
     "name": "stdout",
     "text": [
      "    Not Suicide(0)/Suicide(1)  Age  Gender  Religon  Race  \\\n",
      "0                           0   30       0        0     3   \n",
      "1                           0   91       0        4     1   \n",
      "2                           0   85       1        0     3   \n",
      "3                           1   87       1        0     4   \n",
      "4                           0   59       0        0     3   \n",
      "5                           1   31       1        0     4   \n",
      "6                           0   75       0        1     0   \n",
      "7                           1   47       1        0     3   \n",
      "8                           0   58       0        1     0   \n",
      "9                           0   36       0        2     5   \n",
      "10                          1   87       1        0     4   \n",
      "11                          0   73       0        1     0   \n",
      "12                          1   44       1        0     4   \n",
      "13                          1   62       1        0     3   \n",
      "14                          0   21       0        2     5   \n",
      "15                          1   70       1        0     4   \n",
      "16                          0   68       1        2     5   \n",
      "17                          1   43       0        0     4   \n",
      "18                          0   16       1        5     0   \n",
      "19                          1   35       1        2     5   \n",
      "\n",
      "    Nature Of Occupation  Civil Status  Education Level  Reason  \\\n",
      "0                      0             2                0       3   \n",
      "1                     12             1                8       2   \n",
      "2                     13             1                8      23   \n",
      "3                     16             1                7      11   \n",
      "4                      7             2                1       2   \n",
      "5                      1             2                3      11   \n",
      "6                      4             0                2      17   \n",
      "7                     16             1                7      11   \n",
      "8                      4             2                8       7   \n",
      "9                      4             3                8      17   \n",
      "10                    16             1                4       4   \n",
      "11                     5             3                4      17   \n",
      "12                     1             1                3      11   \n",
      "13                    14             1                0      16   \n",
      "14                    12             2                3      23   \n",
      "15                    16             1                7      16   \n",
      "16                    12             1                4       0   \n",
      "17                     4             1                3      11   \n",
      "18                    15             2                3      16   \n",
      "19                     1             1                4      18   \n",
      "\n",
      "    Lifetime Psychiatric Hospitalizations  ...  \\\n",
      "0                                       0  ...   \n",
      "1                                       0  ...   \n",
      "2                                       0  ...   \n",
      "3                                       0  ...   \n",
      "4                                       0  ...   \n",
      "5                                       0  ...   \n",
      "6                                       0  ...   \n",
      "7                                       0  ...   \n",
      "8                                       0  ...   \n",
      "9                                       0  ...   \n",
      "10                                      1  ...   \n",
      "11                                      0  ...   \n",
      "12                                      0  ...   \n",
      "13                                      1  ...   \n",
      "14                                      0  ...   \n",
      "15                                      0  ...   \n",
      "16                                      0  ...   \n",
      "17                                      1  ...   \n",
      "18                                      0  ...   \n",
      "19                                      0  ...   \n",
      "\n",
      "    Any suicidal thoughts mentioned  Self-Injurious Behaviour  \\\n",
      "0                                 0                         0   \n",
      "1                                 0                         0   \n",
      "2                                 0                         0   \n",
      "3                                 1                         0   \n",
      "4                                 0                         0   \n",
      "5                                 0                         1   \n",
      "6                                 0                         0   \n",
      "7                                 0                         1   \n",
      "8                                 0                         0   \n",
      "9                                 0                         0   \n",
      "10                                1                         0   \n",
      "11                                0                         0   \n",
      "12                                0                         0   \n",
      "13                                1                         0   \n",
      "14                                0                         0   \n",
      "15                                1                         0   \n",
      "16                                0                         0   \n",
      "17                                1                         1   \n",
      "18                                0                         0   \n",
      "19                                0                         0   \n",
      "\n",
      "    Psychiatric Disorders  Past Illnesses   Alcohol/ drug Consumption  Anger  \\\n",
      "0                       3                0                          2      0   \n",
      "1                       3                8                          2      0   \n",
      "2                       3                4                          2      0   \n",
      "3                       3                3                          0      1   \n",
      "4                       3                1                          2      0   \n",
      "5                       3                8                          0      1   \n",
      "6                       3                9                          2      0   \n",
      "7                       3                8                          1      0   \n",
      "8                       3                9                          2      0   \n",
      "9                       3                9                          2      0   \n",
      "10                      4                5                          0      0   \n",
      "11                      3                6                          2      0   \n",
      "12                      3                2                          0      0   \n",
      "13                      6                8                          0      1   \n",
      "14                      3                3                          2      0   \n",
      "15                      2                8                          0      1   \n",
      "16                      3                8                          0      0   \n",
      "17                      2                2                          2      0   \n",
      "18                      2                9                          1      1   \n",
      "19                      2                8                          1      0   \n",
      "\n",
      "   Sleep Problem  Social Iscolation  Sad/ Weary  Humilated  \n",
      "0              0                  0           0          0  \n",
      "1              1                  0           0          0  \n",
      "2              1                  0           0          0  \n",
      "3              1                  1           1          1  \n",
      "4              1                  0           1          1  \n",
      "5              1                  1           1          1  \n",
      "6              0                  1           0          0  \n",
      "7              0                  1           1          0  \n",
      "8              0                  0           0          0  \n",
      "9              1                  0           0          0  \n",
      "10             1                  1           1          0  \n",
      "11             1                  0           0          0  \n",
      "12             1                  1           1          0  \n",
      "13             1                  1           0          1  \n",
      "14             1                  0           1          0  \n",
      "15             1                  1           1          0  \n",
      "16             0                  0           0          0  \n",
      "17             1                  1           1          1  \n",
      "18             1                  1           0          0  \n",
      "19             1                  1           1          0  \n",
      "\n",
      "[20 rows x 21 columns]\n"
     ],
     "output_type": "stream"
    },
    {
     "name": "stderr",
     "text": [
      "c:\\users\\dinis\\pycharmprojects\\suicide-risk-prediction-datascience\\venv\\lib\\site-packages\\ipykernel_launcher.py:7: SettingWithCopyWarning: \n",
      "A value is trying to be set on a copy of a slice from a DataFrame.\n",
      "Try using .loc[row_indexer,col_indexer] = value instead\n",
      "\n",
      "See the caveats in the documentation: https://pandas.pydata.org/pandas-docs/stable/user_guide/indexing.html#returning-a-view-versus-a-copy\n",
      "  import sys\n"
     ],
     "output_type": "stream"
    }
   ],
   "source": [
    "category_col =['Gender', 'Religon', 'Race', 'Nature Of Occupation' ,\n",
    "           'Civil Status' ,'Education Level' ,'Reason' ,\n",
    "           'Psychiatric Disorders' ,'Past Illnesses ' ,'Alcohol/ drug Consumption'] \n",
    "labelEncoder = preprocessing.LabelEncoder()\n",
    "mapping_dict={}\n",
    "for col in category_col:\n",
    "    df1[col] = labelEncoder.fit_transform(df1[col])\n",
    "    le_name_mapping = dict(zip(labelEncoder.classes_, labelEncoder.transform(labelEncoder.classes_)))\n",
    "    mapping_dict[col]=le_name_mapping\n",
    "print(df1.head(20))"
   ],
   "metadata": {
    "collapsed": false,
    "pycharm": {
     "name": "#%%\n",
     "is_executing": false
    }
   }
  },
  {
   "cell_type": "markdown",
   "source": [
    "#### Split into input which is taken as X, and output as y\n"
   ],
   "metadata": {
    "collapsed": false,
    "pycharm": {
     "name": "#%% md\n"
    }
   }
  },
  {
   "cell_type": "code",
   "execution_count": 23,
   "outputs": [
    {
     "traceback": [
      "\u001b[1;31m---------------------------------------------------------------------------\u001b[0m",
      "\u001b[1;31mValueError\u001b[0m                                Traceback (most recent call last)",
      "\u001b[1;32m<ipython-input-23-8e7351ed32ef>\u001b[0m in \u001b[0;36m<module>\u001b[1;34m\u001b[0m\n\u001b[0;32m      7\u001b[0m dt_clf_gini = DecisionTreeClassifier(criterion = \"gini\", random_state = 100,\n\u001b[0;32m      8\u001b[0m                                max_depth=None, min_samples_leaf=None)\n\u001b[1;32m----> 9\u001b[1;33m \u001b[0mdt_clf_gini\u001b[0m\u001b[1;33m.\u001b[0m\u001b[0mfit\u001b[0m\u001b[1;33m(\u001b[0m\u001b[0mX_train\u001b[0m\u001b[1;33m,\u001b[0m \u001b[0my_train\u001b[0m\u001b[1;33m)\u001b[0m\u001b[1;33m\u001b[0m\u001b[1;33m\u001b[0m\u001b[0m\n\u001b[0m\u001b[0;32m     10\u001b[0m \u001b[1;31m### Desicion Tree with Information Gain ###\u001b[0m\u001b[1;33m\u001b[0m\u001b[1;33m\u001b[0m\u001b[1;33m\u001b[0m\u001b[0m\n\u001b[0;32m     11\u001b[0m \u001b[1;33m\u001b[0m\u001b[0m\n",
      "\u001b[1;32mc:\\users\\dinis\\pycharmprojects\\suicide-risk-prediction-datascience\\venv\\lib\\site-packages\\sklearn\\tree\\_classes.py\u001b[0m in \u001b[0;36mfit\u001b[1;34m(self, X, y, sample_weight, check_input, X_idx_sorted)\u001b[0m\n\u001b[0;32m    875\u001b[0m             \u001b[0msample_weight\u001b[0m\u001b[1;33m=\u001b[0m\u001b[0msample_weight\u001b[0m\u001b[1;33m,\u001b[0m\u001b[1;33m\u001b[0m\u001b[1;33m\u001b[0m\u001b[0m\n\u001b[0;32m    876\u001b[0m             \u001b[0mcheck_input\u001b[0m\u001b[1;33m=\u001b[0m\u001b[0mcheck_input\u001b[0m\u001b[1;33m,\u001b[0m\u001b[1;33m\u001b[0m\u001b[1;33m\u001b[0m\u001b[0m\n\u001b[1;32m--> 877\u001b[1;33m             X_idx_sorted=X_idx_sorted)\n\u001b[0m\u001b[0;32m    878\u001b[0m         \u001b[1;32mreturn\u001b[0m \u001b[0mself\u001b[0m\u001b[1;33m\u001b[0m\u001b[1;33m\u001b[0m\u001b[0m\n\u001b[0;32m    879\u001b[0m \u001b[1;33m\u001b[0m\u001b[0m\n",
      "\u001b[1;32mc:\\users\\dinis\\pycharmprojects\\suicide-risk-prediction-datascience\\venv\\lib\\site-packages\\sklearn\\tree\\_classes.py\u001b[0m in \u001b[0;36mfit\u001b[1;34m(self, X, y, sample_weight, check_input, X_idx_sorted)\u001b[0m\n\u001b[0;32m    147\u001b[0m \u001b[1;33m\u001b[0m\u001b[0m\n\u001b[0;32m    148\u001b[0m         \u001b[1;32mif\u001b[0m \u001b[0mcheck_input\u001b[0m\u001b[1;33m:\u001b[0m\u001b[1;33m\u001b[0m\u001b[1;33m\u001b[0m\u001b[0m\n\u001b[1;32m--> 149\u001b[1;33m             \u001b[0mX\u001b[0m \u001b[1;33m=\u001b[0m \u001b[0mcheck_array\u001b[0m\u001b[1;33m(\u001b[0m\u001b[0mX\u001b[0m\u001b[1;33m,\u001b[0m \u001b[0mdtype\u001b[0m\u001b[1;33m=\u001b[0m\u001b[0mDTYPE\u001b[0m\u001b[1;33m,\u001b[0m \u001b[0maccept_sparse\u001b[0m\u001b[1;33m=\u001b[0m\u001b[1;34m\"csc\"\u001b[0m\u001b[1;33m)\u001b[0m\u001b[1;33m\u001b[0m\u001b[1;33m\u001b[0m\u001b[0m\n\u001b[0m\u001b[0;32m    150\u001b[0m             \u001b[0my\u001b[0m \u001b[1;33m=\u001b[0m \u001b[0mcheck_array\u001b[0m\u001b[1;33m(\u001b[0m\u001b[0my\u001b[0m\u001b[1;33m,\u001b[0m \u001b[0mensure_2d\u001b[0m\u001b[1;33m=\u001b[0m\u001b[1;32mFalse\u001b[0m\u001b[1;33m,\u001b[0m \u001b[0mdtype\u001b[0m\u001b[1;33m=\u001b[0m\u001b[1;32mNone\u001b[0m\u001b[1;33m)\u001b[0m\u001b[1;33m\u001b[0m\u001b[1;33m\u001b[0m\u001b[0m\n\u001b[0;32m    151\u001b[0m             \u001b[1;32mif\u001b[0m \u001b[0missparse\u001b[0m\u001b[1;33m(\u001b[0m\u001b[0mX\u001b[0m\u001b[1;33m)\u001b[0m\u001b[1;33m:\u001b[0m\u001b[1;33m\u001b[0m\u001b[1;33m\u001b[0m\u001b[0m\n",
      "\u001b[1;32mc:\\users\\dinis\\pycharmprojects\\suicide-risk-prediction-datascience\\venv\\lib\\site-packages\\sklearn\\utils\\validation.py\u001b[0m in \u001b[0;36mcheck_array\u001b[1;34m(array, accept_sparse, accept_large_sparse, dtype, order, copy, force_all_finite, ensure_2d, allow_nd, ensure_min_samples, ensure_min_features, warn_on_dtype, estimator)\u001b[0m\n\u001b[0;32m    529\u001b[0m                     \u001b[0marray\u001b[0m \u001b[1;33m=\u001b[0m \u001b[0marray\u001b[0m\u001b[1;33m.\u001b[0m\u001b[0mastype\u001b[0m\u001b[1;33m(\u001b[0m\u001b[0mdtype\u001b[0m\u001b[1;33m,\u001b[0m \u001b[0mcasting\u001b[0m\u001b[1;33m=\u001b[0m\u001b[1;34m\"unsafe\"\u001b[0m\u001b[1;33m,\u001b[0m \u001b[0mcopy\u001b[0m\u001b[1;33m=\u001b[0m\u001b[1;32mFalse\u001b[0m\u001b[1;33m)\u001b[0m\u001b[1;33m\u001b[0m\u001b[1;33m\u001b[0m\u001b[0m\n\u001b[0;32m    530\u001b[0m                 \u001b[1;32melse\u001b[0m\u001b[1;33m:\u001b[0m\u001b[1;33m\u001b[0m\u001b[1;33m\u001b[0m\u001b[0m\n\u001b[1;32m--> 531\u001b[1;33m                     \u001b[0marray\u001b[0m \u001b[1;33m=\u001b[0m \u001b[0mnp\u001b[0m\u001b[1;33m.\u001b[0m\u001b[0masarray\u001b[0m\u001b[1;33m(\u001b[0m\u001b[0marray\u001b[0m\u001b[1;33m,\u001b[0m \u001b[0morder\u001b[0m\u001b[1;33m=\u001b[0m\u001b[0morder\u001b[0m\u001b[1;33m,\u001b[0m \u001b[0mdtype\u001b[0m\u001b[1;33m=\u001b[0m\u001b[0mdtype\u001b[0m\u001b[1;33m)\u001b[0m\u001b[1;33m\u001b[0m\u001b[1;33m\u001b[0m\u001b[0m\n\u001b[0m\u001b[0;32m    532\u001b[0m             \u001b[1;32mexcept\u001b[0m \u001b[0mComplexWarning\u001b[0m\u001b[1;33m:\u001b[0m\u001b[1;33m\u001b[0m\u001b[1;33m\u001b[0m\u001b[0m\n\u001b[0;32m    533\u001b[0m                 raise ValueError(\"Complex data not supported\\n\"\n",
      "\u001b[1;32mc:\\users\\dinis\\pycharmprojects\\suicide-risk-prediction-datascience\\venv\\lib\\site-packages\\numpy\\core\\_asarray.py\u001b[0m in \u001b[0;36masarray\u001b[1;34m(a, dtype, order)\u001b[0m\n\u001b[0;32m     83\u001b[0m \u001b[1;33m\u001b[0m\u001b[0m\n\u001b[0;32m     84\u001b[0m     \"\"\"\n\u001b[1;32m---> 85\u001b[1;33m     \u001b[1;32mreturn\u001b[0m \u001b[0marray\u001b[0m\u001b[1;33m(\u001b[0m\u001b[0ma\u001b[0m\u001b[1;33m,\u001b[0m \u001b[0mdtype\u001b[0m\u001b[1;33m,\u001b[0m \u001b[0mcopy\u001b[0m\u001b[1;33m=\u001b[0m\u001b[1;32mFalse\u001b[0m\u001b[1;33m,\u001b[0m \u001b[0morder\u001b[0m\u001b[1;33m=\u001b[0m\u001b[0morder\u001b[0m\u001b[1;33m)\u001b[0m\u001b[1;33m\u001b[0m\u001b[1;33m\u001b[0m\u001b[0m\n\u001b[0m\u001b[0;32m     86\u001b[0m \u001b[1;33m\u001b[0m\u001b[0m\n\u001b[0;32m     87\u001b[0m \u001b[1;33m\u001b[0m\u001b[0m\n",
      "\u001b[1;31mValueError\u001b[0m: could not convert string to float: 'A'"
     ],
     "ename": "ValueError",
     "evalue": "could not convert string to float: 'A'",
     "output_type": "error"
    }
   ],
   "source": [
    "X = df1.values[:, 2:22]\n",
    "Y = df1.values[:,1]\n",
    "\n",
    "X_train, X_test, y_train, y_test = train_test_split( X, Y, test_size = 0.3, random_state = 100)\n",
    "\n",
    "\n",
    "dt_clf_gini = DecisionTreeClassifier(criterion = \"gini\", random_state = 100,\n",
    "                               max_depth=5, min_samples_leaf=5)\n",
    "dt_clf_gini.fit(X_train, y_train)\n",
    "### Desicion Tree with Information Gain ###\n",
    "\n",
    "dt_clf_entropy = DecisionTreeClassifier(criterion = \"entropy\", random_state = 100,\n",
    " max_depth=5, min_samples_leaf=5)\n",
    "\n",
    "dt_clf_entropy.fit(X_train, y_train)\n",
    "\n",
    "y_pred_gini = dt_clf_gini.predict(X_test)\n",
    "y_pred_en = dt_clf_entropy.predict(X_test)\n",
    "\n",
    "print (\"Desicion Tree using Gini Index\\nAccuracy is \", accuracy_score(y_test,y_pred_gini)*100 )\n",
    "print (\"Desicion Tree using Information Gain\\nAccuracy is \", accuracy_score(y_test,y_pred_en)*100 )\n"
   ],
   "metadata": {
    "collapsed": false,
    "pycharm": {
     "name": "#%%\n",
     "is_executing": false
    }
   }
  },
  {
   "cell_type": "code",
   "execution_count": null,
   "outputs": [],
   "source": [
    "\n"
   ],
   "metadata": {
    "collapsed": false,
    "pycharm": {
     "name": "#%%\n"
    }
   }
  },
  {
   "cell_type": "code",
   "execution_count": null,
   "outputs": [],
   "source": [
    "\n"
   ],
   "metadata": {
    "collapsed": false,
    "pycharm": {
     "name": "#%%\n"
    }
   }
  },
  {
   "cell_type": "code",
   "execution_count": null,
   "outputs": [],
   "source": [
    "\n"
   ],
   "metadata": {
    "collapsed": false,
    "pycharm": {
     "name": "#%%\n"
    }
   }
  },
  {
   "cell_type": "code",
   "execution_count": null,
   "outputs": [],
   "source": [
    "\n"
   ],
   "metadata": {
    "collapsed": false,
    "pycharm": {
     "name": "#%%\n"
    }
   }
  }
 ],
 "metadata": {
  "kernelspec": {
   "display_name": "Python 3",
   "language": "python",
   "name": "python3"
  },
  "language_info": {
   "codemirror_mode": {
    "name": "ipython",
    "version": 2
   },
   "file_extension": ".py",
   "mimetype": "text/x-python",
   "name": "python",
   "nbconvert_exporter": "python",
   "pygments_lexer": "ipython2",
   "version": "2.7.6"
  },
  "pycharm": {
   "stem_cell": {
    "cell_type": "raw",
    "source": [],
    "metadata": {
     "collapsed": false
    }
   }
  }
 },
 "nbformat": 4,
 "nbformat_minor": 0
}